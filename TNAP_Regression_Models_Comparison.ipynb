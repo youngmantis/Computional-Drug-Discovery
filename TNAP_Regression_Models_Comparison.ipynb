{
  "cells": [
    {
      "cell_type": "markdown",
      "metadata": {
        "id": "view-in-github",
        "colab_type": "text"
      },
      "source": [
        "<a href=\"https://colab.research.google.com/github/youngmantis/Computional-Drug-Discovery/blob/main/TNAP_Regression_Models_Comparison.ipynb\" target=\"_parent\"><img src=\"https://colab.research.google.com/assets/colab-badge.svg\" alt=\"Open In Colab\"/></a>"
      ]
    },
    {
      "cell_type": "code",
      "execution_count": null,
      "metadata": {
        "id": "h1aVczlZTbzi"
      },
      "outputs": [],
      "source": [
        "# Import necessary libraries\n",
        "import matplotlib.pyplot as plt\n",
        "import numpy as np\n",
        "import pandas as pd\n",
        "import seaborn as sns\n",
        "\n",
        "# Make NumPy printouts easier to read.\n",
        "np.set_printoptions(precision=3, suppress=True)\n",
        "\n",
        "# Install required packages\n",
        "!pip install -q seaborn"
      ]
    },
    {
      "cell_type": "code",
      "execution_count": null,
      "metadata": {
        "colab": {
          "base_uri": "https://localhost:8080/"
        },
        "id": "ANQg3f5Iapeq",
        "outputId": "96f5617e-df68-4c41-febc-2377906d829c"
      },
      "outputs": [
        {
          "name": "stdout",
          "output_type": "stream",
          "text": [
            "2.15.0\n"
          ]
        }
      ],
      "source": [
        "# Load necessary TensorFlow libraries\n",
        "import tensorflow as tf\n",
        "from tensorflow import keras\n",
        "from tensorflow.keras import layers\n",
        "\n",
        "print(tf.__version__)"
      ]
    },
    {
      "cell_type": "code",
      "execution_count": null,
      "metadata": {
        "colab": {
          "base_uri": "https://localhost:8080/"
        },
        "id": "no2-pU5LasAi",
        "outputId": "44ec1b2b-0d6b-4270-dbf5-777331572c98"
      },
      "outputs": [
        {
          "name": "stdout",
          "output_type": "stream",
          "text": [
            "<class 'pandas.core.frame.DataFrame'>\n",
            "RangeIndex: 2580 entries, 0 to 2579\n",
            "Columns: 882 entries, PubchemFP0 to pIC50\n",
            "dtypes: float64(1), int64(881)\n",
            "memory usage: 17.4 MB\n"
          ]
        }
      ],
      "source": [
        "# Load bioactivity data\n",
        "df = pd.read_csv('/content/Alkaline phosphatase tissue non specific_06_bioactivity_data_3class_pIC50_pubchem_fp.csv')\n",
        "df.info()"
      ]
    },
    {
      "cell_type": "code",
      "execution_count": null,
      "metadata": {
        "id": "8DD1T4otazGP"
      },
      "outputs": [],
      "source": [
        "# Split the dataset into training and testing sets\n",
        "train_df = df.sample(frac=0.8, random_state=0)\n",
        "test_df = df.drop(train_df.index)\n",
        "\n",
        "train_features = train_df.copy()\n",
        "test_features = test_df.copy()\n",
        "\n",
        "train_labels = train_df.pop('pIC50')\n",
        "test_labels = test_df.pop('pIC50')"
      ]
    },
    {
      "cell_type": "code",
      "execution_count": null,
      "metadata": {
        "colab": {
          "base_uri": "https://localhost:8080/"
        },
        "id": "g4r4MWKuwrxg",
        "outputId": "6c9eab19-cae0-477f-e706-e0f3963ef28d"
      },
      "outputs": [
        {
          "name": "stdout",
          "output_type": "stream",
          "text": [
            "Collecting tensorflow-determinism\n",
            "  Downloading tensorflow_determinism-0.4.0-py3-none-any.whl (3.9 kB)\n",
            "Installing collected packages: tensorflow-determinism\n",
            "Successfully installed tensorflow-determinism-0.4.0\n"
          ]
        }
      ],
      "source": [
        "pip install tensorflow-determinism"
      ]
    },
    {
      "cell_type": "code",
      "execution_count": null,
      "metadata": {
        "id": "jaEF_xS9gQeb"
      },
      "outputs": [],
      "source": [
        "import random\n",
        "import os\n",
        "from sklearn.preprocessing import StandardScaler\n",
        "\n",
        "def setup_seed(seed):\n",
        "    random.seed(seed)\n",
        "    np.random.seed(seed)\n",
        "    tf.random.set_seed(seed)  # tf cpu fix seed\n",
        "    os.environ['TF_DETERMINISTIC_OPS'] = '1'  # tf gpu fix seed, please `pip install tensorflow-determinism` first\n",
        "\n",
        "setup_seed(42)"
      ]
    },
    {
      "cell_type": "code",
      "execution_count": null,
      "metadata": {
        "colab": {
          "base_uri": "https://localhost:8080/"
        },
        "id": "XNydYAZ9a8sc",
        "outputId": "985c721a-481e-4db8-8ada-f68710fbb1cf"
      },
      "outputs": [
        {
          "name": "stdout",
          "output_type": "stream",
          "text": [
            "[[0.996 0.961 0.611 0.089 0.    0.    0.018 0.    0.    1.    1.    0.984\n",
            "  0.691 0.039 0.942 0.815 0.437 0.021 0.949 0.829 0.394 0.075 0.004 0.25\n",
            "  0.127 0.021 0.    0.    0.001 0.    0.081 0.035 0.002 0.409 0.085 0.004\n",
            "  0.    0.334 0.141 0.009 0.    0.    0.    0.029 0.001 0.    0.003 0.\n",
            "  0.    0.    0.    0.    0.    0.    0.    0.    0.    0.    0.    0.\n",
            "  0.    0.    0.    0.    0.    0.    0.001 0.    0.    0.    0.    0.\n",
            "  0.    0.    0.    0.    0.    0.    0.    0.    0.    0.    0.    0.\n",
            "  0.    0.    0.    0.    0.    0.    0.    0.    0.    0.    0.    0.\n",
            "  0.    0.    0.    0.    0.    0.    0.    0.    0.    0.    0.    0.\n",
            "  0.    0.    0.    0.    0.    0.    0.    0.013 0.013 0.    0.    0.\n",
            "  0.    0.    0.    0.    0.    0.    0.    0.    0.    0.013 0.006 0.006\n",
            "  0.007 0.    0.    0.    0.    0.    0.    0.    0.    0.    0.    0.741\n",
            "  0.055 0.598 0.641 0.019 0.073 0.074 0.306 0.001 0.169 0.285 0.    0.001\n",
            "  0.001 0.085 0.    0.038 0.059 0.    0.    0.    0.009 0.    0.004 0.006\n",
            "  0.    0.    0.    0.    0.    0.    0.    0.    0.    0.    0.972 0.886\n",
            "  0.587 0.628 0.008 0.006 0.008 0.801 0.508 0.123 0.127 0.001 0.    0.\n",
            "  0.436 0.129 0.016 0.016 0.001 0.    0.    0.12  0.036 0.    0.    0.001\n",
            "  0.    0.    0.029 0.014 0.    0.    0.001 0.    0.    0.006 0.002 0.003\n",
            "  0.003 0.    0.    0.    0.    0.    0.    0.    0.    0.    0.    0.002\n",
            "  0.001 0.    0.    0.    0.    0.    0.    0.    0.    0.    0.    0.\n",
            "  0.    0.    0.    0.    0.    0.    0.    0.    0.    0.    0.    0.\n",
            "  0.    0.    0.    0.976 0.718 0.872 0.365 0.507 0.092 0.226 0.013 0.\n",
            "  0.    0.    0.    0.    0.    0.    0.    0.    0.001 0.    0.017 0.\n",
            "  0.017 0.    0.    0.001 0.    0.    0.    1.    1.    0.941 0.917 0.25\n",
            "  0.    0.    0.    0.001 0.066 0.401 0.334 0.    0.001 0.029 0.003 0.641\n",
            "  0.314 0.063 0.    0.    0.    0.141 0.    0.    0.426 0.    0.    0.\n",
            "  0.    0.001 0.081 0.    0.    0.    0.    0.    0.    0.    0.    0.\n",
            "  0.    0.    0.    0.029 0.027 0.001 0.027 0.001 0.998 0.867 0.041 0.161\n",
            "  0.014 0.003 0.184 0.163 0.815 0.516 0.295 0.001 0.999 0.697 0.392 0.013\n",
            "  0.013 0.138 0.003 0.939 0.897 0.37  0.001 0.965 0.836 0.461 0.587 0.234\n",
            "  0.001 0.001 0.259 0.101 0.146 0.721 0.499 0.022 0.152 0.001 0.934 0.921\n",
            "  0.324 0.414 0.598 0.445 0.821 0.649 0.248 0.349 0.3   0.412 0.341 0.297\n",
            "  0.964 0.38  0.346 0.569 0.206 0.296 0.871 0.537 0.429 0.636 0.159 0.063\n",
            "  0.54  0.251 0.162 0.137 0.023 0.043 0.    0.487 0.066 0.514 0.389 0.049\n",
            "  0.016 0.05  0.    0.081 0.224 0.005 0.173 0.001 0.982 0.004 0.69  0.04\n",
            "  0.758 0.185 0.262 0.061 0.    0.078 0.    0.004 0.003 0.04  0.845 0.517\n",
            "  0.138 0.    0.93  0.358 0.027 0.767 0.279 0.496 0.209 0.981 0.661 0.694\n",
            "  0.    0.349 0.95  0.441 0.027 0.843 0.401 0.572 0.281 0.588 0.061 0.043\n",
            "  0.078 0.172 0.042 0.173 0.002 0.063 0.049 0.    0.868 0.158 0.038 0.271\n",
            "  0.005 0.    0.922 0.138 0.54  0.151 0.101 0.161 0.302 0.219 0.007 0.003\n",
            "  0.127 0.037 0.528 0.126 0.357 0.209 0.125 0.371 0.062 0.188 0.94  0.374\n",
            "  0.025 0.401 0.081 0.729 0.11  0.027 0.386 0.267 0.15  0.262 0.671 0.247\n",
            "  0.327 0.017 0.54  0.213 0.141 0.027 0.003 0.05  0.    0.051 0.062 0.266\n",
            "  0.86  0.146 0.063 0.374 0.922 0.429 0.102 0.622 0.934 0.    0.022 0.131\n",
            "  0.287 0.022 0.598 0.294 0.205 0.132 0.026 0.551 0.231 0.049 0.649 0.523\n",
            "  0.702 0.385 0.363 0.049 0.062 0.826 0.66  0.274 0.492 0.858 0.262 0.017\n",
            "  0.922 0.496 0.028 0.613 0.94  0.012 0.058 0.046 0.422 0.067 0.001 0.029\n",
            "  0.922 0.302 0.295 0.181 0.039 0.481 0.928 0.166 0.286 0.493 0.489 0.052\n",
            "  0.513 0.305 0.922 0.538 0.128 0.068 0.993 0.016 0.922 0.722 0.163 0.016\n",
            "  0.02  0.299 0.102 0.258 0.91  0.387 0.37  0.924 0.363 0.378 0.258 0.922\n",
            "  0.709 0.308 0.176 0.925 0.369 0.038 0.381 0.814 0.924 0.076 0.023 0.46\n",
            "  0.193 0.845 0.325 0.151 0.174 0.352 0.911 0.49  0.16  0.27  0.031 0.391\n",
            "  0.109 0.057 0.299 0.    0.768 0.041 0.04  0.032 0.16  0.805 0.925 0.042\n",
            "  0.35  0.634 0.216 0.156 0.937 0.489 0.068 0.472 0.255 0.506 0.292 0.116\n",
            "  0.007 0.002 0.139 0.381 0.062 0.042 0.414 0.487 0.765 0.722 0.101 0.26\n",
            "  0.931 0.029 0.157 0.137 0.922 0.725 0.37  0.169 0.925 0.011 0.027 0.486\n",
            "  0.396 0.173 0.341 0.027 0.037 0.922 0.931 0.931 0.624 0.093 0.23  0.902\n",
            "  0.491 0.164 0.063 0.047 0.841 0.52  0.158 0.225 0.451 0.069 0.038 0.095\n",
            "  0.568 0.322 0.355 0.229 0.082 0.066 0.2   0.071 0.411 0.055 0.031 0.053\n",
            "  0.85  0.843 0.837 0.041 0.314 0.092 0.153 0.037 0.157 0.084 0.004 0.015\n",
            "  0.012 0.036 0.013 0.002 0.    0.029 0.016 0.002 0.028 0.031 0.002 0.006\n",
            "  0.    0.    0.141 0.13  0.049 0.123 0.08  0.008 0.037 0.025 0.027 0.008\n",
            "  0.003 0.003 0.026 0.01  0.002 0.03  0.043 0.003 0.092 0.    0.    0.109\n",
            "  0.088 0.05  0.185 0.054 0.001 0.062 0.025 0.031 0.013 0.002 0.    0.023\n",
            "  0.017 0.    0.042 0.018 0.002 0.022 0.    0.    0.121 0.166 0.037 0.157\n",
            "  0.084 0.004 0.015 0.012 0.036 0.013 0.002 0.    0.029 0.016 0.002 0.028\n",
            "  0.031 0.002 0.006 0.    0.    0.158 0.144 0.049 0.13  0.08  0.008 0.037\n",
            "  0.025 0.027 0.008 0.003 0.003 0.026 0.01  0.002 0.03  0.043 0.003 0.092\n",
            "  0.    0.    0.126 0.103 0.051 0.194 0.054 0.001 0.062 0.025 0.031 0.013\n",
            "  0.002 0.    0.023 0.017 0.    0.042 0.018 0.002 0.022 0.    0.    0.019\n",
            "  0.    0.001 0.005 0.    0.    0.    0.    0.    0.    0.    0.    0.\n",
            "  0.    0.    0.    0.    0.    0.    0.    0.    0.025 0.    0.001 0.001\n",
            "  0.    0.    0.    0.    0.    0.    0.    0.    0.    0.    0.    0.002\n",
            "  0.    0.    0.    0.    0.    5.369]]\n"
          ]
        }
      ],
      "source": [
        "# Normalization\n",
        "normalizer = tf.keras.layers.Normalization(axis=-1)\n",
        "normalizer.adapt(np.array(train_features))\n",
        "print(normalizer.mean.numpy())"
      ]
    },
    {
      "cell_type": "code",
      "execution_count": null,
      "metadata": {
        "id": "kIitrw6eUu2O"
      },
      "outputs": [],
      "source": [
        "# Linear model\n",
        "linear_model_v1 = tf.keras.Sequential([\n",
        "    layers.Dense(units=1)\n",
        "])\n",
        "\n",
        "linear_model_v1.compile(\n",
        "    optimizer='adam',  # Default optimizer (Adam) with default learning rate\n",
        "    loss='mean_absolute_error'  # Default loss function (Mean Absolute Error)\n",
        ")\n",
        "\n",
        "history_v1 = linear_model_v1.fit(\n",
        "    train_features,\n",
        "    train_labels,\n",
        "    epochs=10,  # Default number of epochs\n",
        "    validation_split=0.2,\n",
        "    verbose=0\n",
        ")"
      ]
    },
    {
      "cell_type": "code",
      "execution_count": null,
      "metadata": {
        "colab": {
          "base_uri": "https://localhost:8080/"
        },
        "id": "HcFbLTdhFa8T",
        "outputId": "3bc6ffc8-976c-43bd-9228-2ca91f078952"
      },
      "outputs": [
        {
          "name": "stdout",
          "output_type": "stream",
          "text": [
            "Model parameters:\n",
            "Weight: 0.13481106\n",
            "Bias: 0.079718396\n"
          ]
        }
      ],
      "source": [
        "print(\"Model parameters:\")\n",
        "print(\"Weight:\", linear_model_v1.layers[0].get_weights()[0][0][0])  # Slope\n",
        "print(\"Bias:\", linear_model_v1.layers[0].get_weights()[1][0])        # Intercept"
      ]
    },
    {
      "cell_type": "code",
      "execution_count": null,
      "metadata": {
        "colab": {
          "background_save": true
        },
        "id": "A6WjJ2q6ckv_"
      },
      "outputs": [],
      "source": [
        "# Adjusted linear model\n",
        "linear_model_v2 = tf.keras.Sequential([\n",
        "    layers.Dense(units=1)\n",
        "])\n",
        "\n",
        "# Compile adjusted linear model\n",
        "linear_model_v2.compile(\n",
        "    optimizer=tf.keras.optimizers.Adam(learning_rate=0.001),\n",
        "    loss=tf.keras.losses.MeanAbsoluteError()\n",
        ")\n",
        "\n",
        "# Fit the model\n",
        "history_v2 = linear_model_v2.fit(\n",
        "    train_features,\n",
        "    train_labels,\n",
        "    epochs=1000,  # Increased epochs for better convergence\n",
        "    validation_split=0.2,\n",
        "    verbose=0\n",
        ")"
      ]
    },
    {
      "cell_type": "code",
      "execution_count": null,
      "metadata": {
        "colab": {
          "background_save": true
        },
        "id": "lswuo2WBFKAZ",
        "outputId": "fc9ab195-7f7b-48b6-e8a0-39341c817620"
      },
      "outputs": [
        {
          "name": "stdout",
          "output_type": "stream",
          "text": [
            "Model parameters:\n",
            "Weight: -0.00059752195\n",
            "Bias: 0.0024493202\n"
          ]
        }
      ],
      "source": [
        "print(\"Model parameters:\")\n",
        "print(\"Weight:\", linear_model_v2.layers[0].get_weights()[0][0][0])  # Slope\n",
        "print(\"Bias:\", linear_model_v2.layers[0].get_weights()[1][0])        # Intercept"
      ]
    },
    {
      "cell_type": "code",
      "execution_count": null,
      "metadata": {
        "colab": {
          "background_save": true
        },
        "id": "x_a4ieGed6l0",
        "outputId": "e7b4ad88-82b4-4f7d-aabf-41d5e101c3b8"
      },
      "outputs": [
        {
          "data": {
            "image/png": "[encoded data removed]",
            "text/plain": [
              "<Figure size 640x480 with 1 Axes>"
            ]
          },
          "metadata": {},
          "output_type": "display_data"
        }
      ],
      "source": [
        "# Plot loss for scaled linear regression model\n",
        "def plot_loss(history):\n",
        "    plt.plot(history.history['loss'], label='loss')\n",
        "    plt.plot(history.history['val_loss'], label='val_loss')\n",
        "    plt.ylim([0, 10])\n",
        "    plt.xlabel('Epoch')\n",
        "    plt.ylabel('Error [pIC50]')\n",
        "    plt.legend()\n",
        "    plt.grid(False)\n",
        "\n",
        "    # Save the plot as a PDF file\n",
        "plt.savefig('loss_plot_linear_regression_v1.pdf')\n",
        "\n",
        "plot_loss(history_v1)"
      ]
    },
    {
      "cell_type": "code",
      "execution_count": null,
      "metadata": {
        "colab": {
          "background_save": true
        },
        "id": "8FPuKLa4hjvs",
        "outputId": "2903d097-000e-4f08-93ba-16c1c20e6765"
      },
      "outputs": [
        {
          "data": {
            "image/png": "[encoded data removed]",
            "text/plain": [
              "<Figure size 640x480 with 1 Axes>"
            ]
          },
          "metadata": {},
          "output_type": "display_data"
        }
      ],
      "source": [
        "# Plot loss for adjusted learning rate linear regression model\n",
        "\n",
        "# Save the plot as a PDF file\n",
        "plt.savefig('loss_plot_linear_regression_v2.pdf')\n",
        "\n",
        "plot_loss(history_v2)"
      ]
    },
    {
      "cell_type": "code",
      "execution_count": null,
      "metadata": {
        "colab": {
          "background_save": true
        },
        "id": "TxS4vos7eG4b",
        "outputId": "02625601-7034-4ac1-e804-85789b992e9d"
      },
      "outputs": [
        {
          "data": {
            "application/vnd.google.colaboratory.intrinsic+json": {
              "summary": "{\n  \"name\": \"pd\",\n  \"rows\": 2,\n  \"fields\": [\n    {\n      \"column\": \"Mean absolute error [pIC50]\",\n      \"properties\": {\n        \"dtype\": \"number\",\n        \"std\": 0.39442224458291875,\n        \"min\": 0.009061838500201702,\n        \"max\": 0.5668591260910034,\n        \"num_unique_values\": 2,\n        \"samples\": [\n          0.009061838500201702,\n          0.5668591260910034\n        ],\n        \"semantic_type\": \"\",\n        \"description\": \"\"\n      }\n    }\n  ]\n}",
              "type": "dataframe"
            },
            "text/html": [
              "\n",
              "  <div id=\"df-c9aa6d41-96d8-47c6-802a-88d2c149a016\" class=\"colab-df-container\">\n",
              "    <div>\n",
              "<style scoped>\n",
              "    .dataframe tbody tr th:only-of-type {\n",
              "        vertical-align: middle;\n",
              "    }\n",
              "\n",
              "    .dataframe tbody tr th {\n",
              "        vertical-align: top;\n",
              "    }\n",
              "\n",
              "    .dataframe thead th {\n",
              "        text-align: right;\n",
              "    }\n",
              "</style>\n",
              "<table border=\"1\" class=\"dataframe\">\n",
              "  <thead>\n",
              "    <tr style=\"text-align: right;\">\n",
              "      <th></th>\n",
              "      <th>Mean absolute error [pIC50]</th>\n",
              "    </tr>\n",
              "  </thead>\n",
              "  <tbody>\n",
              "    <tr>\n",
              "      <th>linear_model_v1</th>\n",
              "      <td>0.566859</td>\n",
              "    </tr>\n",
              "    <tr>\n",
              "      <th>linear_model_v2</th>\n",
              "      <td>0.009062</td>\n",
              "    </tr>\n",
              "  </tbody>\n",
              "</table>\n",
              "</div>\n",
              "    <div class=\"colab-df-buttons\">\n",
              "\n",
              "  <div class=\"colab-df-container\">\n",
              "    <button class=\"colab-df-convert\" onclick=\"convertToInteractive('df-c9aa6d41-96d8-47c6-802a-88d2c149a016')\"\n",
              "            title=\"Convert this dataframe to an interactive table.\"\n",
              "            style=\"display:none;\">\n",
              "\n",
              "  <svg xmlns=\"http://www.w3.org/2000/svg\" height=\"24px\" viewBox=\"0 -960 960 960\">\n",
              "    <path d=\"M120-120v-720h720v720H120Zm60-500h600v-160H180v160Zm220 220h160v-160H400v160Zm0 220h160v-160H400v160ZM180-400h160v-160H180v160Zm440 0h160v-160H620v160ZM180-180h160v-160H180v160Zm440 0h160v-160H620v160Z\"/>\n",
              "  </svg>\n",
              "    </button>\n",
              "\n",
              "  <style>\n",
              "    .colab-df-container {\n",
              "      display:flex;\n",
              "      gap: 12px;\n",
              "    }\n",
              "\n",
              "    .colab-df-convert {\n",
              "      background-color: #E8F0FE;\n",
              "      border: none;\n",
              "      border-radius: 50%;\n",
              "      cursor: pointer;\n",
              "      display: none;\n",
              "      fill: #1967D2;\n",
              "      height: 32px;\n",
              "      padding: 0 0 0 0;\n",
              "      width: 32px;\n",
              "    }\n",
              "\n",
              "    .colab-df-convert:hover {\n",
              "      background-color: #E2EBFA;\n",
              "      box-shadow: 0px 1px 2px rgba(60, 64, 67, 0.3), 0px 1px 3px 1px rgba(60, 64, 67, 0.15);\n",
              "      fill: #174EA6;\n",
              "    }\n",
              "\n",
              "    .colab-df-buttons div {\n",
              "      margin-bottom: 4px;\n",
              "    }\n",
              "\n",
              "    [theme=dark] .colab-df-convert {\n",
              "      background-color: #3B4455;\n",
              "      fill: #D2E3FC;\n",
              "    }\n",
              "\n",
              "    [theme=dark] .colab-df-convert:hover {\n",
              "      background-color: #434B5C;\n",
              "      box-shadow: 0px 1px 3px 1px rgba(0, 0, 0, 0.15);\n",
              "      filter: drop-shadow(0px 1px 2px rgba(0, 0, 0, 0.3));\n",
              "      fill: #FFFFFF;\n",
              "    }\n",
              "  </style>\n",
              "\n",
              "    <script>\n",
              "      const buttonEl =\n",
              "        document.querySelector('#df-c9aa6d41-96d8-47c6-802a-88d2c149a016 button.colab-df-convert');\n",
              "      buttonEl.style.display =\n",
              "        google.colab.kernel.accessAllowed ? 'block' : 'none';\n",
              "\n",
              "      async function convertToInteractive(key) {\n",
              "        const element = document.querySelector('#df-c9aa6d41-96d8-47c6-802a-88d2c149a016');\n",
              "        const dataTable =\n",
              "          await google.colab.kernel.invokeFunction('convertToInteractive',\n",
              "                                                    [key], {});\n",
              "        if (!dataTable) return;\n",
              "\n",
              "        const docLinkHtml = 'Like what you see? Visit the ' +\n",
              "          '<a target=\"_blank\" href=https://colab.research.google.com/notebooks/data_table.ipynb>data table notebook</a>'\n",
              "          + ' to learn more about interactive tables.';\n",
              "        element.innerHTML = '';\n",
              "        dataTable['output_type'] = 'display_data';\n",
              "        await google.colab.output.renderOutput(dataTable, element);\n",
              "        const docLink = document.createElement('div');\n",
              "        docLink.innerHTML = docLinkHtml;\n",
              "        element.appendChild(docLink);\n",
              "      }\n",
              "    </script>\n",
              "  </div>\n",
              "\n",
              "\n",
              "<div id=\"df-5b2c7d0d-4e5c-44be-8af6-a85b1ebe11c1\">\n",
              "  <button class=\"colab-df-quickchart\" onclick=\"quickchart('df-5b2c7d0d-4e5c-44be-8af6-a85b1ebe11c1')\"\n",
              "            title=\"Suggest charts\"\n",
              "            style=\"display:none;\">\n",
              "\n",
              "<svg xmlns=\"http://www.w3.org/2000/svg\" height=\"24px\"viewBox=\"0 0 24 24\"\n",
              "     width=\"24px\">\n",
              "    <g>\n",
              "        <path d=\"M19 3H5c-1.1 0-2 .9-2 2v14c0 1.1.9 2 2 2h14c1.1 0 2-.9 2-2V5c0-1.1-.9-2-2-2zM9 17H7v-7h2v7zm4 0h-2V7h2v10zm4 0h-2v-4h2v4z\"/>\n",
              "    </g>\n",
              "</svg>\n",
              "  </button>\n",
              "\n",
              "<style>\n",
              "  .colab-df-quickchart {\n",
              "      --bg-color: #E8F0FE;\n",
              "      --fill-color: #1967D2;\n",
              "      --hover-bg-color: #E2EBFA;\n",
              "      --hover-fill-color: #174EA6;\n",
              "      --disabled-fill-color: #AAA;\n",
              "      --disabled-bg-color: #DDD;\n",
              "  }\n",
              "\n",
              "  [theme=dark] .colab-df-quickchart {\n",
              "      --bg-color: #3B4455;\n",
              "      --fill-color: #D2E3FC;\n",
              "      --hover-bg-color: #434B5C;\n",
              "      --hover-fill-color: #FFFFFF;\n",
              "      --disabled-bg-color: #3B4455;\n",
              "      --disabled-fill-color: #666;\n",
              "  }\n",
              "\n",
              "  .colab-df-quickchart {\n",
              "    background-color: var(--bg-color);\n",
              "    border: none;\n",
              "    border-radius: 50%;\n",
              "    cursor: pointer;\n",
              "    display: none;\n",
              "    fill: var(--fill-color);\n",
              "    height: 32px;\n",
              "    padding: 0;\n",
              "    width: 32px;\n",
              "  }\n",
              "\n",
              "  .colab-df-quickchart:hover {\n",
              "    background-color: var(--hover-bg-color);\n",
              "    box-shadow: 0 1px 2px rgba(60, 64, 67, 0.3), 0 1px 3px 1px rgba(60, 64, 67, 0.15);\n",
              "    fill: var(--button-hover-fill-color);\n",
              "  }\n",
              "\n",
              "  .colab-df-quickchart-complete:disabled,\n",
              "  .colab-df-quickchart-complete:disabled:hover {\n",
              "    background-color: var(--disabled-bg-color);\n",
              "    fill: var(--disabled-fill-color);\n",
              "    box-shadow: none;\n",
              "  }\n",
              "\n",
              "  .colab-df-spinner {\n",
              "    border: 2px solid var(--fill-color);\n",
              "    border-color: transparent;\n",
              "    border-bottom-color: var(--fill-color);\n",
              "    animation:\n",
              "      spin 1s steps(1) infinite;\n",
              "  }\n",
              "\n",
              "  @keyframes spin {\n",
              "    0% {\n",
              "      border-color: transparent;\n",
              "      border-bottom-color: var(--fill-color);\n",
              "      border-left-color: var(--fill-color);\n",
              "    }\n",
              "    20% {\n",
              "      border-color: transparent;\n",
              "      border-left-color: var(--fill-color);\n",
              "      border-top-color: var(--fill-color);\n",
              "    }\n",
              "    30% {\n",
              "      border-color: transparent;\n",
              "      border-left-color: var(--fill-color);\n",
              "      border-top-color: var(--fill-color);\n",
              "      border-right-color: var(--fill-color);\n",
              "    }\n",
              "    40% {\n",
              "      border-color: transparent;\n",
              "      border-right-color: var(--fill-color);\n",
              "      border-top-color: var(--fill-color);\n",
              "    }\n",
              "    60% {\n",
              "      border-color: transparent;\n",
              "      border-right-color: var(--fill-color);\n",
              "    }\n",
              "    80% {\n",
              "      border-color: transparent;\n",
              "      border-right-color: var(--fill-color);\n",
              "      border-bottom-color: var(--fill-color);\n",
              "    }\n",
              "    90% {\n",
              "      border-color: transparent;\n",
              "      border-bottom-color: var(--fill-color);\n",
              "    }\n",
              "  }\n",
              "</style>\n",
              "\n",
              "  <script>\n",
              "    async function quickchart(key) {\n",
              "      const quickchartButtonEl =\n",
              "        document.querySelector('#' + key + ' button');\n",
              "      quickchartButtonEl.disabled = true;  // To prevent multiple clicks.\n",
              "      quickchartButtonEl.classList.add('colab-df-spinner');\n",
              "      try {\n",
              "        const charts = await google.colab.kernel.invokeFunction(\n",
              "            'suggestCharts', [key], {});\n",
              "      } catch (error) {\n",
              "        console.error('Error during call to suggestCharts:', error);\n",
              "      }\n",
              "      quickchartButtonEl.classList.remove('colab-df-spinner');\n",
              "      quickchartButtonEl.classList.add('colab-df-quickchart-complete');\n",
              "    }\n",
              "    (() => {\n",
              "      let quickchartButtonEl =\n",
              "        document.querySelector('#df-5b2c7d0d-4e5c-44be-8af6-a85b1ebe11c1 button');\n",
              "      quickchartButtonEl.style.display =\n",
              "        google.colab.kernel.accessAllowed ? 'block' : 'none';\n",
              "    })();\n",
              "  </script>\n",
              "</div>\n",
              "\n",
              "    </div>\n",
              "  </div>\n"
            ],
            "text/plain": [
              "                 Mean absolute error [pIC50]\n",
              "linear_model_v1                     0.566859\n",
              "linear_model_v2                     0.009062"
            ]
          },
          "execution_count": 14,
          "metadata": {},
          "output_type": "execute_result"
        }
      ],
      "source": [
        "# Evaluate linear model on test set\n",
        "test_results = {}\n",
        "\n",
        "# Linear Regression with Feature Scaling\n",
        "test_results['linear_model_v1'] = linear_model_v1.evaluate(test_features, test_labels, verbose=0)\n",
        "\n",
        "# Linear Regression with Adjusted Learning Rate\n",
        "test_results['linear_model_v2'] = linear_model_v2.evaluate(test_features, test_labels, verbose=0)\n",
        "\n",
        "# Display test results\n",
        "pd.DataFrame(test_results, index=['Mean absolute error [pIC50]']).T"
      ]
    },
    {
      "cell_type": "code",
      "execution_count": null,
      "metadata": {
        "colab": {
          "background_save": true
        },
        "id": "4AG7jOcabvZk"
      },
      "outputs": [],
      "source": [
        "# Deep Neural Network (DNN) with default architecture and parameters\n",
        "def build_and_compile_model_v1(norm):\n",
        "    model = keras.Sequential([\n",
        "        norm,\n",
        "        layers.Dense(64, activation='relu'),\n",
        "        layers.Dense(64, activation='relu'),\n",
        "        layers.Dense(1)\n",
        "    ])\n",
        "\n",
        "    model.compile(\n",
        "        loss='mean_absolute_error',\n",
        "        optimizer=tf.keras.optimizers.Adam()\n",
        "    )\n",
        "    return model\n",
        "\n",
        "dnn_model_v1 = build_and_compile_model_v1(normalizer)\n",
        "history_v1 = dnn_model_v1.fit(\n",
        "    train_features,\n",
        "    train_labels,\n",
        "    validation_split=0.2,\n",
        "    verbose=0,\n",
        "    epochs=10\n",
        ")"
      ]
    },
    {
      "cell_type": "code",
      "execution_count": null,
      "metadata": {
        "colab": {
          "background_save": true
        },
        "id": "c-H7IAYhcRmO"
      },
      "outputs": [],
      "source": [
        "# Deep Neural Network (DNN) with modified architecture\n",
        "def build_and_compile_model_v2(norm):\n",
        "    model = keras.Sequential([\n",
        "        norm,\n",
        "        #layers.Dense(128, activation='relu'),\n",
        "        layers.Dense(64, activation='relu'),\n",
        "        layers.Dense(64, activation='relu'),\n",
        "        layers.Dense(1)\n",
        "    ])\n",
        "\n",
        "    model.compile(\n",
        "        loss='mean_absolute_error',\n",
        "        optimizer=tf.keras.optimizers.Adam(0.012)\n",
        "    )\n",
        "    return model\n",
        "\n",
        "dnn_model_v2 = build_and_compile_model_v2(normalizer)\n",
        "history_v2 = dnn_model_v2.fit(\n",
        "    train_features,\n",
        "    train_labels,\n",
        "    validation_split=0.2,\n",
        "    verbose=0,\n",
        "    epochs=1000\n",
        ")"
      ]
    },
    {
      "cell_type": "code",
      "execution_count": null,
      "metadata": {
        "colab": {
          "background_save": true
        },
        "id": "A_L3bWMEFb4j",
        "outputId": "3ac2b943-692e-4ed9-d360-b56d48f750f1"
      },
      "outputs": [
        {
          "data": {
            "image/png": "[encoded data removed]",
            "text/plain": [
              "<Figure size 640x480 with 1 Axes>"
            ]
          },
          "metadata": {},
          "output_type": "display_data"
        }
      ],
      "source": [
        "# Plot loss for DNN v1 model\n",
        "plt.grid(False)\n",
        "\n",
        "# Save the plot as a PDF file\n",
        "plt.savefig('loss_plot_dnn_v1.pdf')\n",
        "\n",
        "plot_loss(history_v1)"
      ]
    },
    {
      "cell_type": "code",
      "execution_count": null,
      "metadata": {
        "colab": {
          "background_save": true
        },
        "id": "cwkh2ZHxevPa",
        "outputId": "eb21aa53-d47b-48df-8a9a-0db9343854a7"
      },
      "outputs": [
        {
          "data": {
            "image/png": "[encoded data removed]",
            "text/plain": [
              "<Figure size 640x480 with 1 Axes>"
            ]
          },
          "metadata": {},
          "output_type": "display_data"
        }
      ],
      "source": [
        "# Plot loss for DNN v2 model\n",
        "plt.grid(False)\n",
        "\n",
        "# Save the plot as a PDF file\n",
        "plt.savefig('loss_plot_dnn_v2.pdf')\n",
        "\n",
        "plot_loss(history_v2)"
      ]
    },
    {
      "cell_type": "code",
      "execution_count": null,
      "metadata": {
        "colab": {
          "background_save": true
        },
        "id": "x9Qm45miewsH",
        "outputId": "d600f486-7302-4f86-c8d7-b5df58baf1fb"
      },
      "outputs": [
        {
          "data": {
            "application/vnd.google.colaboratory.intrinsic+json": {
              "summary": "{\n  \"name\": \"pd\",\n  \"rows\": 4,\n  \"fields\": [\n    {\n      \"column\": \"Mean absolute error [pIC50]\",\n      \"properties\": {\n        \"dtype\": \"number\",\n        \"std\": 5936.836542472221,\n        \"min\": 0.009061838500201702,\n        \"max\": 11873.9189453125,\n        \"num_unique_values\": 4,\n        \"samples\": [\n          0.009061838500201702,\n          0.16168813407421112,\n          0.5668591260910034\n        ],\n        \"semantic_type\": \"\",\n        \"description\": \"\"\n      }\n    }\n  ]\n}",
              "type": "dataframe"
            },
            "text/html": [
              "\n",
              "  <div id=\"df-fabf4140-943f-490e-b414-57073c03aeb9\" class=\"colab-df-container\">\n",
              "    <div>\n",
              "<style scoped>\n",
              "    .dataframe tbody tr th:only-of-type {\n",
              "        vertical-align: middle;\n",
              "    }\n",
              "\n",
              "    .dataframe tbody tr th {\n",
              "        vertical-align: top;\n",
              "    }\n",
              "\n",
              "    .dataframe thead th {\n",
              "        text-align: right;\n",
              "    }\n",
              "</style>\n",
              "<table border=\"1\" class=\"dataframe\">\n",
              "  <thead>\n",
              "    <tr style=\"text-align: right;\">\n",
              "      <th></th>\n",
              "      <th>Mean absolute error [pIC50]</th>\n",
              "    </tr>\n",
              "  </thead>\n",
              "  <tbody>\n",
              "    <tr>\n",
              "      <th>linear_model_v1</th>\n",
              "      <td>0.566859</td>\n",
              "    </tr>\n",
              "    <tr>\n",
              "      <th>linear_model_v2</th>\n",
              "      <td>0.009062</td>\n",
              "    </tr>\n",
              "    <tr>\n",
              "      <th>dnn_model_v1</th>\n",
              "      <td>11873.918945</td>\n",
              "    </tr>\n",
              "    <tr>\n",
              "      <th>dnn_model_v2</th>\n",
              "      <td>0.161688</td>\n",
              "    </tr>\n",
              "  </tbody>\n",
              "</table>\n",
              "</div>\n",
              "    <div class=\"colab-df-buttons\">\n",
              "\n",
              "  <div class=\"colab-df-container\">\n",
              "    <button class=\"colab-df-convert\" onclick=\"convertToInteractive('df-fabf4140-943f-490e-b414-57073c03aeb9')\"\n",
              "            title=\"Convert this dataframe to an interactive table.\"\n",
              "            style=\"display:none;\">\n",
              "\n",
              "  <svg xmlns=\"http://www.w3.org/2000/svg\" height=\"24px\" viewBox=\"0 -960 960 960\">\n",
              "    <path d=\"M120-120v-720h720v720H120Zm60-500h600v-160H180v160Zm220 220h160v-160H400v160Zm0 220h160v-160H400v160ZM180-400h160v-160H180v160Zm440 0h160v-160H620v160ZM180-180h160v-160H180v160Zm440 0h160v-160H620v160Z\"/>\n",
              "  </svg>\n",
              "    </button>\n",
              "\n",
              "  <style>\n",
              "    .colab-df-container {\n",
              "      display:flex;\n",
              "      gap: 12px;\n",
              "    }\n",
              "\n",
              "    .colab-df-convert {\n",
              "      background-color: #E8F0FE;\n",
              "      border: none;\n",
              "      border-radius: 50%;\n",
              "      cursor: pointer;\n",
              "      display: none;\n",
              "      fill: #1967D2;\n",
              "      height: 32px;\n",
              "      padding: 0 0 0 0;\n",
              "      width: 32px;\n",
              "    }\n",
              "\n",
              "    .colab-df-convert:hover {\n",
              "      background-color: #E2EBFA;\n",
              "      box-shadow: 0px 1px 2px rgba(60, 64, 67, 0.3), 0px 1px 3px 1px rgba(60, 64, 67, 0.15);\n",
              "      fill: #174EA6;\n",
              "    }\n",
              "\n",
              "    .colab-df-buttons div {\n",
              "      margin-bottom: 4px;\n",
              "    }\n",
              "\n",
              "    [theme=dark] .colab-df-convert {\n",
              "      background-color: #3B4455;\n",
              "      fill: #D2E3FC;\n",
              "    }\n",
              "\n",
              "    [theme=dark] .colab-df-convert:hover {\n",
              "      background-color: #434B5C;\n",
              "      box-shadow: 0px 1px 3px 1px rgba(0, 0, 0, 0.15);\n",
              "      filter: drop-shadow(0px 1px 2px rgba(0, 0, 0, 0.3));\n",
              "      fill: #FFFFFF;\n",
              "    }\n",
              "  </style>\n",
              "\n",
              "    <script>\n",
              "      const buttonEl =\n",
              "        document.querySelector('#df-fabf4140-943f-490e-b414-57073c03aeb9 button.colab-df-convert');\n",
              "      buttonEl.style.display =\n",
              "        google.colab.kernel.accessAllowed ? 'block' : 'none';\n",
              "\n",
              "      async function convertToInteractive(key) {\n",
              "        const element = document.querySelector('#df-fabf4140-943f-490e-b414-57073c03aeb9');\n",
              "        const dataTable =\n",
              "          await google.colab.kernel.invokeFunction('convertToInteractive',\n",
              "                                                    [key], {});\n",
              "        if (!dataTable) return;\n",
              "\n",
              "        const docLinkHtml = 'Like what you see? Visit the ' +\n",
              "          '<a target=\"_blank\" href=https://colab.research.google.com/notebooks/data_table.ipynb>data table notebook</a>'\n",
              "          + ' to learn more about interactive tables.';\n",
              "        element.innerHTML = '';\n",
              "        dataTable['output_type'] = 'display_data';\n",
              "        await google.colab.output.renderOutput(dataTable, element);\n",
              "        const docLink = document.createElement('div');\n",
              "        docLink.innerHTML = docLinkHtml;\n",
              "        element.appendChild(docLink);\n",
              "      }\n",
              "    </script>\n",
              "  </div>\n",
              "\n",
              "\n",
              "<div id=\"df-025612cc-e955-4d3b-b914-a86d2288037d\">\n",
              "  <button class=\"colab-df-quickchart\" onclick=\"quickchart('df-025612cc-e955-4d3b-b914-a86d2288037d')\"\n",
              "            title=\"Suggest charts\"\n",
              "            style=\"display:none;\">\n",
              "\n",
              "<svg xmlns=\"http://www.w3.org/2000/svg\" height=\"24px\"viewBox=\"0 0 24 24\"\n",
              "     width=\"24px\">\n",
              "    <g>\n",
              "        <path d=\"M19 3H5c-1.1 0-2 .9-2 2v14c0 1.1.9 2 2 2h14c1.1 0 2-.9 2-2V5c0-1.1-.9-2-2-2zM9 17H7v-7h2v7zm4 0h-2V7h2v10zm4 0h-2v-4h2v4z\"/>\n",
              "    </g>\n",
              "</svg>\n",
              "  </button>\n",
              "\n",
              "<style>\n",
              "  .colab-df-quickchart {\n",
              "      --bg-color: #E8F0FE;\n",
              "      --fill-color: #1967D2;\n",
              "      --hover-bg-color: #E2EBFA;\n",
              "      --hover-fill-color: #174EA6;\n",
              "      --disabled-fill-color: #AAA;\n",
              "      --disabled-bg-color: #DDD;\n",
              "  }\n",
              "\n",
              "  [theme=dark] .colab-df-quickchart {\n",
              "      --bg-color: #3B4455;\n",
              "      --fill-color: #D2E3FC;\n",
              "      --hover-bg-color: #434B5C;\n",
              "      --hover-fill-color: #FFFFFF;\n",
              "      --disabled-bg-color: #3B4455;\n",
              "      --disabled-fill-color: #666;\n",
              "  }\n",
              "\n",
              "  .colab-df-quickchart {\n",
              "    background-color: var(--bg-color);\n",
              "    border: none;\n",
              "    border-radius: 50%;\n",
              "    cursor: pointer;\n",
              "    display: none;\n",
              "    fill: var(--fill-color);\n",
              "    height: 32px;\n",
              "    padding: 0;\n",
              "    width: 32px;\n",
              "  }\n",
              "\n",
              "  .colab-df-quickchart:hover {\n",
              "    background-color: var(--hover-bg-color);\n",
              "    box-shadow: 0 1px 2px rgba(60, 64, 67, 0.3), 0 1px 3px 1px rgba(60, 64, 67, 0.15);\n",
              "    fill: var(--button-hover-fill-color);\n",
              "  }\n",
              "\n",
              "  .colab-df-quickchart-complete:disabled,\n",
              "  .colab-df-quickchart-complete:disabled:hover {\n",
              "    background-color: var(--disabled-bg-color);\n",
              "    fill: var(--disabled-fill-color);\n",
              "    box-shadow: none;\n",
              "  }\n",
              "\n",
              "  .colab-df-spinner {\n",
              "    border: 2px solid var(--fill-color);\n",
              "    border-color: transparent;\n",
              "    border-bottom-color: var(--fill-color);\n",
              "    animation:\n",
              "      spin 1s steps(1) infinite;\n",
              "  }\n",
              "\n",
              "  @keyframes spin {\n",
              "    0% {\n",
              "      border-color: transparent;\n",
              "      border-bottom-color: var(--fill-color);\n",
              "      border-left-color: var(--fill-color);\n",
              "    }\n",
              "    20% {\n",
              "      border-color: transparent;\n",
              "      border-left-color: var(--fill-color);\n",
              "      border-top-color: var(--fill-color);\n",
              "    }\n",
              "    30% {\n",
              "      border-color: transparent;\n",
              "      border-left-color: var(--fill-color);\n",
              "      border-top-color: var(--fill-color);\n",
              "      border-right-color: var(--fill-color);\n",
              "    }\n",
              "    40% {\n",
              "      border-color: transparent;\n",
              "      border-right-color: var(--fill-color);\n",
              "      border-top-color: var(--fill-color);\n",
              "    }\n",
              "    60% {\n",
              "      border-color: transparent;\n",
              "      border-right-color: var(--fill-color);\n",
              "    }\n",
              "    80% {\n",
              "      border-color: transparent;\n",
              "      border-right-color: var(--fill-color);\n",
              "      border-bottom-color: var(--fill-color);\n",
              "    }\n",
              "    90% {\n",
              "      border-color: transparent;\n",
              "      border-bottom-color: var(--fill-color);\n",
              "    }\n",
              "  }\n",
              "</style>\n",
              "\n",
              "  <script>\n",
              "    async function quickchart(key) {\n",
              "      const quickchartButtonEl =\n",
              "        document.querySelector('#' + key + ' button');\n",
              "      quickchartButtonEl.disabled = true;  // To prevent multiple clicks.\n",
              "      quickchartButtonEl.classList.add('colab-df-spinner');\n",
              "      try {\n",
              "        const charts = await google.colab.kernel.invokeFunction(\n",
              "            'suggestCharts', [key], {});\n",
              "      } catch (error) {\n",
              "        console.error('Error during call to suggestCharts:', error);\n",
              "      }\n",
              "      quickchartButtonEl.classList.remove('colab-df-spinner');\n",
              "      quickchartButtonEl.classList.add('colab-df-quickchart-complete');\n",
              "    }\n",
              "    (() => {\n",
              "      let quickchartButtonEl =\n",
              "        document.querySelector('#df-025612cc-e955-4d3b-b914-a86d2288037d button');\n",
              "      quickchartButtonEl.style.display =\n",
              "        google.colab.kernel.accessAllowed ? 'block' : 'none';\n",
              "    })();\n",
              "  </script>\n",
              "</div>\n",
              "\n",
              "    </div>\n",
              "  </div>\n"
            ],
            "text/plain": [
              "                 Mean absolute error [pIC50]\n",
              "linear_model_v1                     0.566859\n",
              "linear_model_v2                     0.009062\n",
              "dnn_model_v1                    11873.918945\n",
              "dnn_model_v2                        0.161688"
            ]
          },
          "execution_count": 19,
          "metadata": {},
          "output_type": "execute_result"
        }
      ],
      "source": [
        "# Evaluate DNN with default architecture\n",
        "test_results['dnn_model_v1'] = dnn_model_v1.evaluate(test_features, test_labels, verbose=0)\n",
        "\n",
        "# Evaluate DNN with modified architecture\n",
        "test_results['dnn_model_v2'] = dnn_model_v2.evaluate(test_features, test_labels, verbose=0)\n",
        "\n",
        "# Display test results\n",
        "pd.DataFrame(test_results, index=['Mean absolute error [pIC50]']).T"
      ]
    },
    {
      "cell_type": "code",
      "execution_count": null,
      "metadata": {
        "colab": {
          "background_save": true
        },
        "id": "x-LwLs1fnQoK"
      },
      "outputs": [],
      "source": [
        "# Save linear model for future use\n",
        "linear_model_v1.save('linear_model_v1.keras')\n",
        "linear_model_v2.save('linear_model_v2.keras')"
      ]
    },
    {
      "cell_type": "code",
      "execution_count": null,
      "metadata": {
        "colab": {
          "background_save": true
        },
        "id": "uhRDj2Iie_bC"
      },
      "outputs": [],
      "source": [
        "# Save DNN model for future use\n",
        "dnn_model_v1.save('dnn_model_v1.keras')\n",
        "dnn_model_v2.save('dnn_model_v1.keras')"
      ]
    },
    {
      "cell_type": "code",
      "execution_count": null,
      "metadata": {
        "colab": {
          "background_save": true
        },
        "id": "Uv9fLqAVfGXs",
        "outputId": "1b96c0d2-5f5b-4985-cf19-2fa44d144af9"
      },
      "outputs": [
        {
          "name": "stdout",
          "output_type": "stream",
          "text": [
            "17/17 [==============================] - 0s 2ms/step\n",
            "17/17 [==============================] - 0s 2ms/step\n",
            "17/17 [==============================] - 0s 2ms/step\n",
            "17/17 [==============================] - 0s 2ms/step\n"
          ]
        },
        {
          "data": {
            "application/vnd.google.colaboratory.intrinsic+json": {
              "summary": "{\n  \"name\": \"results_df\",\n  \"rows\": 4,\n  \"fields\": [\n    {\n      \"column\": \"MAE\",\n      \"properties\": {\n        \"dtype\": \"number\",\n        \"std\": 5936.836695518415,\n        \"min\": 0.009061828674670815,\n        \"max\": 11873.919251396379,\n        \"num_unique_values\": 4,\n        \"samples\": [\n          0.009061828674670815,\n          0.16168811204109448,\n          0.5668591324289985\n        ],\n        \"semantic_type\": \"\",\n        \"description\": \"\"\n      }\n    },\n    {\n      \"column\": \"MSE\",\n      \"properties\": {\n        \"dtype\": \"number\",\n        \"std\": 9810487237.973106,\n        \"min\": 0.00019451130399041958,\n        \"max\": 19620974476.178684,\n        \"num_unique_values\": 4,\n        \"samples\": [\n          0.00019451130399041958,\n          0.12954418012327118,\n          0.5676802749865515\n        ],\n        \"semantic_type\": \"\",\n        \"description\": \"\"\n      }\n    },\n    {\n      \"column\": \"RMSE\",\n      \"properties\": {\n        \"dtype\": \"number\",\n        \"std\": 70037.25652171686,\n        \"min\": 0.013946730942784391,\n        \"max\": 140074.8888137295,\n        \"num_unique_values\": 4,\n        \"samples\": [\n          0.013946730942784391,\n          0.3599224640436759,\n          0.7534456018761749\n        ],\n        \"semantic_type\": \"\",\n        \"description\": \"\"\n      }\n    },\n    {\n      \"column\": \"R-squared\",\n      \"properties\": {\n        \"dtype\": \"number\",\n        \"std\": 4397942888.457045,\n        \"min\": -8795885776.018305,\n        \"max\": 0.9999128025361679,\n        \"num_unique_values\": 4,\n        \"samples\": [\n          0.9999128025361679,\n          0.9419266452425611,\n          0.7455146347236614\n        ],\n        \"semantic_type\": \"\",\n        \"description\": \"\"\n      }\n    }\n  ]\n}",
              "type": "dataframe",
              "variable_name": "results_df"
            },
            "text/html": [
              "\n",
              "  <div id=\"df-87194487-a98a-4b12-adcb-9287bb26bc01\" class=\"colab-df-container\">\n",
              "    <div>\n",
              "<style scoped>\n",
              "    .dataframe tbody tr th:only-of-type {\n",
              "        vertical-align: middle;\n",
              "    }\n",
              "\n",
              "    .dataframe tbody tr th {\n",
              "        vertical-align: top;\n",
              "    }\n",
              "\n",
              "    .dataframe thead th {\n",
              "        text-align: right;\n",
              "    }\n",
              "</style>\n",
              "<table border=\"1\" class=\"dataframe\">\n",
              "  <thead>\n",
              "    <tr style=\"text-align: right;\">\n",
              "      <th></th>\n",
              "      <th>MAE</th>\n",
              "      <th>MSE</th>\n",
              "      <th>RMSE</th>\n",
              "      <th>R-squared</th>\n",
              "    </tr>\n",
              "  </thead>\n",
              "  <tbody>\n",
              "    <tr>\n",
              "      <th>linear_model_v1</th>\n",
              "      <td>0.566859</td>\n",
              "      <td>5.676803e-01</td>\n",
              "      <td>0.753446</td>\n",
              "      <td>7.455146e-01</td>\n",
              "    </tr>\n",
              "    <tr>\n",
              "      <th>linear_model_v2</th>\n",
              "      <td>0.009062</td>\n",
              "      <td>1.945113e-04</td>\n",
              "      <td>0.013947</td>\n",
              "      <td>9.999128e-01</td>\n",
              "    </tr>\n",
              "    <tr>\n",
              "      <th>dnn_model_v1</th>\n",
              "      <td>11873.919251</td>\n",
              "      <td>1.962097e+10</td>\n",
              "      <td>140074.888814</td>\n",
              "      <td>-8.795886e+09</td>\n",
              "    </tr>\n",
              "    <tr>\n",
              "      <th>dnn_model_v2</th>\n",
              "      <td>0.161688</td>\n",
              "      <td>1.295442e-01</td>\n",
              "      <td>0.359922</td>\n",
              "      <td>9.419266e-01</td>\n",
              "    </tr>\n",
              "  </tbody>\n",
              "</table>\n",
              "</div>\n",
              "    <div class=\"colab-df-buttons\">\n",
              "\n",
              "  <div class=\"colab-df-container\">\n",
              "    <button class=\"colab-df-convert\" onclick=\"convertToInteractive('df-87194487-a98a-4b12-adcb-9287bb26bc01')\"\n",
              "            title=\"Convert this dataframe to an interactive table.\"\n",
              "            style=\"display:none;\">\n",
              "\n",
              "  <svg xmlns=\"http://www.w3.org/2000/svg\" height=\"24px\" viewBox=\"0 -960 960 960\">\n",
              "    <path d=\"M120-120v-720h720v720H120Zm60-500h600v-160H180v160Zm220 220h160v-160H400v160Zm0 220h160v-160H400v160ZM180-400h160v-160H180v160Zm440 0h160v-160H620v160ZM180-180h160v-160H180v160Zm440 0h160v-160H620v160Z\"/>\n",
              "  </svg>\n",
              "    </button>\n",
              "\n",
              "  <style>\n",
              "    .colab-df-container {\n",
              "      display:flex;\n",
              "      gap: 12px;\n",
              "    }\n",
              "\n",
              "    .colab-df-convert {\n",
              "      background-color: #E8F0FE;\n",
              "      border: none;\n",
              "      border-radius: 50%;\n",
              "      cursor: pointer;\n",
              "      display: none;\n",
              "      fill: #1967D2;\n",
              "      height: 32px;\n",
              "      padding: 0 0 0 0;\n",
              "      width: 32px;\n",
              "    }\n",
              "\n",
              "    .colab-df-convert:hover {\n",
              "      background-color: #E2EBFA;\n",
              "      box-shadow: 0px 1px 2px rgba(60, 64, 67, 0.3), 0px 1px 3px 1px rgba(60, 64, 67, 0.15);\n",
              "      fill: #174EA6;\n",
              "    }\n",
              "\n",
              "    .colab-df-buttons div {\n",
              "      margin-bottom: 4px;\n",
              "    }\n",
              "\n",
              "    [theme=dark] .colab-df-convert {\n",
              "      background-color: #3B4455;\n",
              "      fill: #D2E3FC;\n",
              "    }\n",
              "\n",
              "    [theme=dark] .colab-df-convert:hover {\n",
              "      background-color: #434B5C;\n",
              "      box-shadow: 0px 1px 3px 1px rgba(0, 0, 0, 0.15);\n",
              "      filter: drop-shadow(0px 1px 2px rgba(0, 0, 0, 0.3));\n",
              "      fill: #FFFFFF;\n",
              "    }\n",
              "  </style>\n",
              "\n",
              "    <script>\n",
              "      const buttonEl =\n",
              "        document.querySelector('#df-87194487-a98a-4b12-adcb-9287bb26bc01 button.colab-df-convert');\n",
              "      buttonEl.style.display =\n",
              "        google.colab.kernel.accessAllowed ? 'block' : 'none';\n",
              "\n",
              "      async function convertToInteractive(key) {\n",
              "        const element = document.querySelector('#df-87194487-a98a-4b12-adcb-9287bb26bc01');\n",
              "        const dataTable =\n",
              "          await google.colab.kernel.invokeFunction('convertToInteractive',\n",
              "                                                    [key], {});\n",
              "        if (!dataTable) return;\n",
              "\n",
              "        const docLinkHtml = 'Like what you see? Visit the ' +\n",
              "          '<a target=\"_blank\" href=https://colab.research.google.com/notebooks/data_table.ipynb>data table notebook</a>'\n",
              "          + ' to learn more about interactive tables.';\n",
              "        element.innerHTML = '';\n",
              "        dataTable['output_type'] = 'display_data';\n",
              "        await google.colab.output.renderOutput(dataTable, element);\n",
              "        const docLink = document.createElement('div');\n",
              "        docLink.innerHTML = docLinkHtml;\n",
              "        element.appendChild(docLink);\n",
              "      }\n",
              "    </script>\n",
              "  </div>\n",
              "\n",
              "\n",
              "<div id=\"df-5190bdce-9200-40ac-8b87-5216deeb72fe\">\n",
              "  <button class=\"colab-df-quickchart\" onclick=\"quickchart('df-5190bdce-9200-40ac-8b87-5216deeb72fe')\"\n",
              "            title=\"Suggest charts\"\n",
              "            style=\"display:none;\">\n",
              "\n",
              "<svg xmlns=\"http://www.w3.org/2000/svg\" height=\"24px\"viewBox=\"0 0 24 24\"\n",
              "     width=\"24px\">\n",
              "    <g>\n",
              "        <path d=\"M19 3H5c-1.1 0-2 .9-2 2v14c0 1.1.9 2 2 2h14c1.1 0 2-.9 2-2V5c0-1.1-.9-2-2-2zM9 17H7v-7h2v7zm4 0h-2V7h2v10zm4 0h-2v-4h2v4z\"/>\n",
              "    </g>\n",
              "</svg>\n",
              "  </button>\n",
              "\n",
              "<style>\n",
              "  .colab-df-quickchart {\n",
              "      --bg-color: #E8F0FE;\n",
              "      --fill-color: #1967D2;\n",
              "      --hover-bg-color: #E2EBFA;\n",
              "      --hover-fill-color: #174EA6;\n",
              "      --disabled-fill-color: #AAA;\n",
              "      --disabled-bg-color: #DDD;\n",
              "  }\n",
              "\n",
              "  [theme=dark] .colab-df-quickchart {\n",
              "      --bg-color: #3B4455;\n",
              "      --fill-color: #D2E3FC;\n",
              "      --hover-bg-color: #434B5C;\n",
              "      --hover-fill-color: #FFFFFF;\n",
              "      --disabled-bg-color: #3B4455;\n",
              "      --disabled-fill-color: #666;\n",
              "  }\n",
              "\n",
              "  .colab-df-quickchart {\n",
              "    background-color: var(--bg-color);\n",
              "    border: none;\n",
              "    border-radius: 50%;\n",
              "    cursor: pointer;\n",
              "    display: none;\n",
              "    fill: var(--fill-color);\n",
              "    height: 32px;\n",
              "    padding: 0;\n",
              "    width: 32px;\n",
              "  }\n",
              "\n",
              "  .colab-df-quickchart:hover {\n",
              "    background-color: var(--hover-bg-color);\n",
              "    box-shadow: 0 1px 2px rgba(60, 64, 67, 0.3), 0 1px 3px 1px rgba(60, 64, 67, 0.15);\n",
              "    fill: var(--button-hover-fill-color);\n",
              "  }\n",
              "\n",
              "  .colab-df-quickchart-complete:disabled,\n",
              "  .colab-df-quickchart-complete:disabled:hover {\n",
              "    background-color: var(--disabled-bg-color);\n",
              "    fill: var(--disabled-fill-color);\n",
              "    box-shadow: none;\n",
              "  }\n",
              "\n",
              "  .colab-df-spinner {\n",
              "    border: 2px solid var(--fill-color);\n",
              "    border-color: transparent;\n",
              "    border-bottom-color: var(--fill-color);\n",
              "    animation:\n",
              "      spin 1s steps(1) infinite;\n",
              "  }\n",
              "\n",
              "  @keyframes spin {\n",
              "    0% {\n",
              "      border-color: transparent;\n",
              "      border-bottom-color: var(--fill-color);\n",
              "      border-left-color: var(--fill-color);\n",
              "    }\n",
              "    20% {\n",
              "      border-color: transparent;\n",
              "      border-left-color: var(--fill-color);\n",
              "      border-top-color: var(--fill-color);\n",
              "    }\n",
              "    30% {\n",
              "      border-color: transparent;\n",
              "      border-left-color: var(--fill-color);\n",
              "      border-top-color: var(--fill-color);\n",
              "      border-right-color: var(--fill-color);\n",
              "    }\n",
              "    40% {\n",
              "      border-color: transparent;\n",
              "      border-right-color: var(--fill-color);\n",
              "      border-top-color: var(--fill-color);\n",
              "    }\n",
              "    60% {\n",
              "      border-color: transparent;\n",
              "      border-right-color: var(--fill-color);\n",
              "    }\n",
              "    80% {\n",
              "      border-color: transparent;\n",
              "      border-right-color: var(--fill-color);\n",
              "      border-bottom-color: var(--fill-color);\n",
              "    }\n",
              "    90% {\n",
              "      border-color: transparent;\n",
              "      border-bottom-color: var(--fill-color);\n",
              "    }\n",
              "  }\n",
              "</style>\n",
              "\n",
              "  <script>\n",
              "    async function quickchart(key) {\n",
              "      const quickchartButtonEl =\n",
              "        document.querySelector('#' + key + ' button');\n",
              "      quickchartButtonEl.disabled = true;  // To prevent multiple clicks.\n",
              "      quickchartButtonEl.classList.add('colab-df-spinner');\n",
              "      try {\n",
              "        const charts = await google.colab.kernel.invokeFunction(\n",
              "            'suggestCharts', [key], {});\n",
              "      } catch (error) {\n",
              "        console.error('Error during call to suggestCharts:', error);\n",
              "      }\n",
              "      quickchartButtonEl.classList.remove('colab-df-spinner');\n",
              "      quickchartButtonEl.classList.add('colab-df-quickchart-complete');\n",
              "    }\n",
              "    (() => {\n",
              "      let quickchartButtonEl =\n",
              "        document.querySelector('#df-5190bdce-9200-40ac-8b87-5216deeb72fe button');\n",
              "      quickchartButtonEl.style.display =\n",
              "        google.colab.kernel.accessAllowed ? 'block' : 'none';\n",
              "    })();\n",
              "  </script>\n",
              "</div>\n",
              "\n",
              "  <div id=\"id_c69f8409-19f1-4026-bed0-437327fc853a\">\n",
              "    <style>\n",
              "      .colab-df-generate {\n",
              "        background-color: #E8F0FE;\n",
              "        border: none;\n",
              "        border-radius: 50%;\n",
              "        cursor: pointer;\n",
              "        display: none;\n",
              "        fill: #1967D2;\n",
              "        height: 32px;\n",
              "        padding: 0 0 0 0;\n",
              "        width: 32px;\n",
              "      }\n",
              "\n",
              "      .colab-df-generate:hover {\n",
              "        background-color: #E2EBFA;\n",
              "        box-shadow: 0px 1px 2px rgba(60, 64, 67, 0.3), 0px 1px 3px 1px rgba(60, 64, 67, 0.15);\n",
              "        fill: #174EA6;\n",
              "      }\n",
              "\n",
              "      [theme=dark] .colab-df-generate {\n",
              "        background-color: #3B4455;\n",
              "        fill: #D2E3FC;\n",
              "      }\n",
              "\n",
              "      [theme=dark] .colab-df-generate:hover {\n",
              "        background-color: #434B5C;\n",
              "        box-shadow: 0px 1px 3px 1px rgba(0, 0, 0, 0.15);\n",
              "        filter: drop-shadow(0px 1px 2px rgba(0, 0, 0, 0.3));\n",
              "        fill: #FFFFFF;\n",
              "      }\n",
              "    </style>\n",
              "    <button class=\"colab-df-generate\" onclick=\"generateWithVariable('results_df')\"\n",
              "            title=\"Generate code using this dataframe.\"\n",
              "            style=\"display:none;\">\n",
              "\n",
              "  <svg xmlns=\"http://www.w3.org/2000/svg\" height=\"24px\"viewBox=\"0 0 24 24\"\n",
              "       width=\"24px\">\n",
              "    <path d=\"M7,19H8.4L18.45,9,17,7.55,7,17.6ZM5,21V16.75L18.45,3.32a2,2,0,0,1,2.83,0l1.4,1.43a1.91,1.91,0,0,1,.58,1.4,1.91,1.91,0,0,1-.58,1.4L9.25,21ZM18.45,9,17,7.55Zm-12,3A5.31,5.31,0,0,0,4.9,8.1,5.31,5.31,0,0,0,1,6.5,5.31,5.31,0,0,0,4.9,4.9,5.31,5.31,0,0,0,6.5,1,5.31,5.31,0,0,0,8.1,4.9,5.31,5.31,0,0,0,12,6.5,5.46,5.46,0,0,0,6.5,12Z\"/>\n",
              "  </svg>\n",
              "    </button>\n",
              "    <script>\n",
              "      (() => {\n",
              "      const buttonEl =\n",
              "        document.querySelector('#id_c69f8409-19f1-4026-bed0-437327fc853a button.colab-df-generate');\n",
              "      buttonEl.style.display =\n",
              "        google.colab.kernel.accessAllowed ? 'block' : 'none';\n",
              "\n",
              "      buttonEl.onclick = () => {\n",
              "        google.colab.notebook.generateWithVariable('results_df');\n",
              "      }\n",
              "      })();\n",
              "    </script>\n",
              "  </div>\n",
              "\n",
              "    </div>\n",
              "  </div>\n"
            ],
            "text/plain": [
              "                          MAE           MSE           RMSE     R-squared\n",
              "linear_model_v1      0.566859  5.676803e-01       0.753446  7.455146e-01\n",
              "linear_model_v2      0.009062  1.945113e-04       0.013947  9.999128e-01\n",
              "dnn_model_v1     11873.919251  1.962097e+10  140074.888814 -8.795886e+09\n",
              "dnn_model_v2         0.161688  1.295442e-01       0.359922  9.419266e-01"
            ]
          },
          "execution_count": 22,
          "metadata": {},
          "output_type": "execute_result"
        }
      ],
      "source": [
        "# Evaluation metrics for all models\n",
        "from sklearn.metrics import mean_absolute_error, mean_squared_error, r2_score\n",
        "\n",
        "linear_model_v1_predictions = linear_model_v1.predict(test_features).flatten()\n",
        "linear_model_v2_predictions = linear_model_v2.predict(test_features).flatten()\n",
        "dnn_model_v1_predictions = dnn_model_v1.predict(test_features).flatten()\n",
        "dnn_model_v2_predictions = dnn_model_v2.predict(test_features).flatten()\n",
        "#dnn_model_v3_predictions = dnn_model_v3.predict(train_features_normalized).flatten()\n",
        "#dnn_model_bn_predictions = dnn_model_bn.predict(train_features_normalized).flatten()\n",
        "#dnn_model_dropout_predictions = dnn_model_dropout.predict(train_features_normalized).flatten()\n",
        "#dnn_model_bn_dropout_predictions = dnn_model_bn_dropout.predict(train_features_normalized).flatten()\n",
        "\n",
        "results = {\n",
        "    'MAE': [\n",
        "        mean_absolute_error(test_labels, linear_model_v1_predictions),\n",
        "        mean_absolute_error(test_labels, linear_model_v2_predictions),\n",
        "        mean_absolute_error(test_labels, dnn_model_v1_predictions),\n",
        "        mean_absolute_error(test_labels, dnn_model_v2_predictions),\n",
        "        #mean_absolute_error(test_labels, dnn_model_bn_predictions),\n",
        "        #mean_absolute_error(test_labels, dnn_model_dropout_predictions),\n",
        "        #mean_absolute_error(test_labels, dnn_model_v3_predictions),\n",
        "        #mean_absolute_error(test_labels, dnn_model_bn_dropout_predictions)\n",
        "    ],\n",
        "    'MSE': [\n",
        "        mean_squared_error(test_labels, linear_model_v1_predictions),\n",
        "        mean_squared_error(test_labels, linear_model_v2_predictions),\n",
        "        mean_squared_error(test_labels, dnn_model_v1_predictions),\n",
        "        mean_squared_error(test_labels, dnn_model_v2_predictions),\n",
        "        #mean_squared_error(test_labels, dnn_model_bn_predictions),\n",
        "        #mean_squared_error(test_labels, dnn_model_dropout_predictions),\n",
        "        #mean_squared_error(test_labels, dnn_model_v3_predictions),\n",
        "        #mean_squared_error(test_labels, dnn_model_bn_dropout_predictions)\n",
        "    ],\n",
        "    'RMSE': [\n",
        "        np.sqrt(mean_squared_error(test_labels, linear_model_v1_predictions)),\n",
        "        np.sqrt(mean_squared_error(test_labels, linear_model_v2_predictions)),\n",
        "        np.sqrt(mean_squared_error(test_labels, dnn_model_v1_predictions)),\n",
        "        np.sqrt(mean_squared_error(test_labels, dnn_model_v2_predictions)),\n",
        "        #np.sqrt(mean_squared_error(test_labels, dnn_model_bn_predictions)),\n",
        "        #np.sqrt(mean_squared_error(test_labels, dnn_model_dropout_predictions)),\n",
        "        #np.sqrt(mean_squared_error(test_labels, dnn_model_v3_predictions)),\n",
        "        #np.sqrt(mean_squared_error(test_labels, dnn_model_bn_dropout_predictions))\n",
        "    ],\n",
        "    'R-squared': [\n",
        "        r2_score(test_labels, linear_model_v1_predictions),\n",
        "        r2_score(test_labels, linear_model_v2_predictions),\n",
        "        r2_score(test_labels, dnn_model_v1_predictions),\n",
        "        r2_score(test_labels, dnn_model_v2_predictions),\n",
        "        #r2_score(test_labels, dnn_model_bn_predictions),\n",
        "       #r2_score(test_labels, dnn_model_dropout_predictions),\n",
        "        #r2_score(test_labels, dnn_model_v3_predictions),\n",
        "        #r2_score(test_labels, dnn_model_bn_dropout_predictions)\n",
        "    ]\n",
        "}\n",
        "\n",
        "results_df = pd.DataFrame(results, index=[\n",
        "    'linear_model_v1',\n",
        "    'linear_model_v2',\n",
        "    'dnn_model_v1',\n",
        "    'dnn_model_v2',\n",
        "    #'dnn_model_v3',\n",
        "    #'dnn_model_bn',\n",
        "    #'dnn_model_dropout',\n",
        "    #'dnn_model_bn_dropout'\n",
        "])\n",
        "\n",
        "results_df"
      ]
    },
    {
      "cell_type": "code",
      "execution_count": null,
      "metadata": {
        "colab": {
          "background_save": true
        },
        "id": "heW725WAm5Ee"
      },
      "outputs": [],
      "source": [
        "# Convert DataFrame to LaTeX string\n",
        "latex = results_df.to_latex(index=False)\n",
        "\n",
        "# Generate PDF using matplotlib\n",
        "plt.figure(figsize=(8, 6))\n",
        "plt.axis('off')  # Hide axis\n",
        "plt.table(cellText=results_df.values,\n",
        "          colLabels=results_df.columns,\n",
        "          loc='center')\n",
        "plt.savefig('results.pdf', bbox_inches='tight', pad_inches=0.1)\n",
        "plt.close()"
      ]
    },
    {
      "cell_type": "code",
      "execution_count": null,
      "metadata": {
        "colab": {
          "background_save": true
        },
        "id": "pk_VotBvnyo-"
      },
      "outputs": [],
      "source": [
        "# Save as CSV\n",
        "results_df.to_csv('results.csv', index=False)\n",
        "\n",
        "# Save as Excel\n",
        "results_df.to_excel('results.xlsx', index=False)"
      ]
    },
    {
      "cell_type": "code",
      "execution_count": null,
      "metadata": {
        "colab": {
          "background_save": true
        },
        "id": "Deio8SDJe17h",
        "outputId": "5ac5f3e8-6711-4eb1-cdce-4c06c72a41ef"
      },
      "outputs": [
        {
          "name": "stdout",
          "output_type": "stream",
          "text": [
            "17/17 [==============================] - 0s 2ms/step\n"
          ]
        },
        {
          "data": {
            "image/png": "[encoded data removed]",
            "text/plain": [
              "<Figure size 640x480 with 1 Axes>"
            ]
          },
          "metadata": {},
          "output_type": "display_data"
        }
      ],
      "source": [
        "# Make predictions with the best DNN model on the test set\n",
        "test_predictions_dnn = dnn_model_v2.predict(test_features).flatten()\n",
        "\n",
        "# Scatter plot for DNN model predictions\n",
        "a = plt.axes(aspect='equal')\n",
        "plt.scatter(test_labels, test_predictions_dnn)\n",
        "plt.xlabel('True Values [pIC50]')\n",
        "plt.ylabel('Predictions [pIC50]')\n",
        "lims = [0, 50]\n",
        "plt.xlim(lims)\n",
        "plt.ylim(lims)\n",
        "_ = plt.plot(lims, lims)\n",
        "\n",
        "# Save the plot as a PDF file\n",
        "plt.savefig('plot_of_best_dnn_model.pdf')"
      ]
    },
    {
      "cell_type": "code",
      "execution_count": null,
      "metadata": {
        "colab": {
          "background_save": true
        },
        "id": "AQfi83PLB3VI",
        "outputId": "f2ce4eec-1a10-430b-beeb-a58fd1c13212"
      },
      "outputs": [
        {
          "name": "stdout",
          "output_type": "stream",
          "text": [
            "17/17 [==============================] - 0s 2ms/step\n"
          ]
        },
        {
          "data": {
            "image/png": "[encoded data removed]",
            "text/plain": [
              "<Figure size 640x480 with 1 Axes>"
            ]
          },
          "metadata": {},
          "output_type": "display_data"
        }
      ],
      "source": [
        "# Make predictions with best linear regression model on the test set\n",
        "test_predictions_linear = linear_model_v2.predict(test_features).flatten()\n",
        "\n",
        "# Scatter plot for linear regression model predictions\n",
        "a = plt.axes(aspect='equal')\n",
        "plt.scatter(test_labels, test_predictions_linear)\n",
        "plt.xlabel('True Values [pIC50]')\n",
        "plt.ylabel('Predictions [pIC50]')\n",
        "lims = [0, 50]\n",
        "plt.xlim(lims)\n",
        "plt.ylim(lims)\n",
        "_ = plt.plot(lims, lims)\n",
        "\n",
        "# Save the plot as a PDF file\n",
        "plt.savefig('plot_of_best_linear_model.pdf')"
      ]
    },
    {
      "cell_type": "code",
      "execution_count": null,
      "metadata": {
        "colab": {
          "background_save": true
        },
        "id": "qeFGCP0ye8fs",
        "outputId": "27113d68-f8d3-451f-b241-d748b0d990b6"
      },
      "outputs": [
        {
          "data": {
            "image/png": "[encoded data removed]",
            "text/plain": [
              "<Figure size 640x480 with 1 Axes>"
            ]
          },
          "metadata": {},
          "output_type": "display_data"
        }
      ],
      "source": [
        "# Histogram of prediction errors for DNN model\n",
        "error_dnn = test_predictions_dnn - test_labels\n",
        "plt.hist(error_dnn, bins=25)\n",
        "plt.xlabel('Prediction Error [pIC50]')\n",
        "_ = plt.ylabel('Count')\n",
        "\n",
        "# Save the plot as a PDF file\n",
        "plt.savefig('error_plot_of_best_dnn_model.pdf')"
      ]
    },
    {
      "cell_type": "code",
      "execution_count": null,
      "metadata": {
        "colab": {
          "background_save": true
        },
        "id": "iLINMpSgCiBF",
        "outputId": "5d128843-7c9d-4d3e-fc0c-08313e280f95"
      },
      "outputs": [
        {
          "data": {
            "image/png": "[encoded data removed]",
            "text/plain": [
              "<Figure size 640x480 with 1 Axes>"
            ]
          },
          "metadata": {},
          "output_type": "display_data"
        }
      ],
      "source": [
        "# Histogram of prediction errors for the best linear model\n",
        "error_linear = test_predictions_linear - test_labels\n",
        "plt.hist(error_linear, bins=25)\n",
        "plt.xlabel('Prediction Error [pIC50]')\n",
        "_ = plt.ylabel('Count')\n",
        "\n",
        "# Save the plot as a PDF file\n",
        "plt.savefig('error_plot_of_best_linear_model.pdf')"
      ]
    },
    {
      "cell_type": "code",
      "execution_count": null,
      "metadata": {
        "colab": {
          "background_save": true
        },
        "id": "M8yHhyip0ZUc",
        "outputId": "34ff03c6-daad-4a54-8008-d7050587dee0"
      },
      "outputs": [
        {
          "name": "stdout",
          "output_type": "stream",
          "text": [
            "Model: \"sequential\"\n",
            "_________________________________________________________________\n",
            " Layer (type)                Output Shape              Param #   \n",
            "=================================================================\n",
            " dense (Dense)               (None, 1)                 883       \n",
            "                                                                 \n",
            "=================================================================\n",
            "Total params: 883 (3.45 KB)\n",
            "Trainable params: 883 (3.45 KB)\n",
            "Non-trainable params: 0 (0.00 Byte)\n",
            "_________________________________________________________________\n",
            "Model: \"sequential_1\"\n",
            "_________________________________________________________________\n",
            " Layer (type)                Output Shape              Param #   \n",
            "=================================================================\n",
            " dense_1 (Dense)             (None, 1)                 883       \n",
            "                                                                 \n",
            "=================================================================\n",
            "Total params: 883 (3.45 KB)\n",
            "Trainable params: 883 (3.45 KB)\n",
            "Non-trainable params: 0 (0.00 Byte)\n",
            "_________________________________________________________________\n",
            "Model: \"sequential_2\"\n",
            "_________________________________________________________________\n",
            " Layer (type)                Output Shape              Param #   \n",
            "=================================================================\n",
            " normalization (Normalizati  (None, 882)               1765      \n",
            " on)                                                             \n",
            "                                                                 \n",
            " dense_2 (Dense)             (None, 64)                56512     \n",
            "                                                                 \n",
            " dense_3 (Dense)             (None, 64)                4160      \n",
            "                                                                 \n",
            " dense_4 (Dense)             (None, 1)                 65        \n",
            "                                                                 \n",
            "=================================================================\n",
            "Total params: 62502 (244.15 KB)\n",
            "Trainable params: 60737 (237.25 KB)\n",
            "Non-trainable params: 1765 (6.90 KB)\n",
            "_________________________________________________________________\n",
            "Model: \"sequential_3\"\n",
            "_________________________________________________________________\n",
            " Layer (type)                Output Shape              Param #   \n",
            "=================================================================\n",
            " normalization (Normalizati  (None, 882)               1765      \n",
            " on)                                                             \n",
            "                                                                 \n",
            " dense_5 (Dense)             (None, 64)                56512     \n",
            "                                                                 \n",
            " dense_6 (Dense)             (None, 64)                4160      \n",
            "                                                                 \n",
            " dense_7 (Dense)             (None, 1)                 65        \n",
            "                                                                 \n",
            "=================================================================\n",
            "Total params: 62502 (244.15 KB)\n",
            "Trainable params: 60737 (237.25 KB)\n",
            "Non-trainable params: 1765 (6.90 KB)\n",
            "_________________________________________________________________\n"
          ]
        }
      ],
      "source": [
        "# Print the summary for linear_model_scaled\n",
        "linear_model_v1.summary()\n",
        "\n",
        "# Print the summary for linear_model_lr\n",
        "linear_model_v2.summary()\n",
        "\n",
        "# Print the summary for dnn_model_v2\n",
        "dnn_model_v1.summary()\n",
        "\n",
        "# Print the summary for dnn_model_v2\n",
        "dnn_model_v2.summary()\n",
        "\n",
        "# Print the summary for dnn_model_v3\n",
        "#dnn_model_v3.summary()\n",
        "\n",
        "# Print the summary for dnn_model_bn\n",
        "#dnn_model_bn.summary()\n",
        "\n",
        "# Print the summary for dnn_model_dropout\n",
        "#dnn_model_dropout.summary()\n",
        "\n",
        "# Print the summary for dnn_model_bn_dropout\n",
        "#dnn_model_bn_dropout.summary()"
      ]
    },
    {
      "cell_type": "code",
      "execution_count": null,
      "metadata": {
        "colab": {
          "background_save": true
        },
        "id": "ZA6-rcrToZW9"
      },
      "outputs": [],
      "source": [
        "import io\n",
        "\n",
        "# Function to capture summary as a string\n",
        "def capture_summary(model):\n",
        "    summary_str = io.StringIO()\n",
        "    model.summary(print_fn=lambda x: summary_str.write(x + '\\n'))\n",
        "    summary_str.seek(0)\n",
        "    return summary_str.read()\n",
        "\n",
        "# Capture summaries\n",
        "linear_model_v1_summary = capture_summary(linear_model_v1)\n",
        "linear_model_v2_summary = capture_summary(linear_model_v2)\n",
        "dnn_model_v1_summary = capture_summary(dnn_model_v1)\n",
        "dnn_model_v2_summary = capture_summary(dnn_model_v2)\n",
        "#dnn_model_v3_summary = capture_summary(dnn_model_v3)\n",
        "#dnn_model_bn_summary = capture_summary(dnn_model_bn)\n",
        "#dnn_model_dropout_summary = capture_summary(dnn_model_dropout)\n",
        "#dnn_model_bn_dropout_summary = capture_summary(dnn_model_bn_dropout)\n",
        "\n",
        "# Save summaries into a DataFrame\n",
        "data = {\n",
        "    \"Model\": [\"linear_model_scaled\", \"linear_model_lr\", \"dnn_model_v1\", \"dnn_model_v2\"], #\"dnn_model_bn\", \"dnn_model_dropout\", \"dnn_model_v3\", \"dnn_model_bn_dropout\"],\n",
        "    \"Summary\": [linear_model_v1_summary, linear_model_v2_summary, dnn_model_v1_summary, dnn_model_v2_summary] #dnn_model_v3_summary, dnn_model_bn_summary, dnn_model_dropout_summary, dnn_model_bn_dropout_summary]\n",
        "}\n",
        "\n",
        "df = pd.DataFrame(data)\n",
        "\n",
        "# Save DataFrame to Excel\n",
        "df.to_excel(\"models_summary.xlsx\", index=True)"
      ]
    },
    {
      "cell_type": "code",
      "execution_count": null,
      "metadata": {
        "colab": {
          "background_save": true
        },
        "id": "xXAjUHb2pGcf",
        "outputId": "16cf3dca-e7b4-4b09-d3a7-0794ead8e0b4"
      },
      "outputs": [
        {
          "name": "stdout",
          "output_type": "stream",
          "text": [
            "+-----------------+----------------------------------+\n",
            "| Model           |   Number of Trainable Parameters |\n",
            "+=================+==================================+\n",
            "| linear_model_v1 |                              883 |\n",
            "+-----------------+----------------------------------+\n",
            "| linear_model_v2 |                              883 |\n",
            "+-----------------+----------------------------------+\n",
            "| dnn_model_v1    |                            60737 |\n",
            "+-----------------+----------------------------------+\n",
            "| dnn_model_v2    |                            60737 |\n",
            "+-----------------+----------------------------------+\n"
          ]
        }
      ],
      "source": [
        "from tabulate import tabulate\n",
        "\n",
        "# Function to get the number of trainable parameters from model summary\n",
        "def get_num_parameters(model):\n",
        "    return sum([int(np.prod(p.shape)) for p in model.trainable_weights])\n",
        "\n",
        "# Create a table\n",
        "table = [[\"linear_model_v1\", get_num_parameters(linear_model_v1)],\n",
        "         [\"linear_model_v2\", get_num_parameters(linear_model_v2)],\n",
        "         [\"dnn_model_v1\", get_num_parameters(dnn_model_v1)],\n",
        "         [\"dnn_model_v2\", get_num_parameters(dnn_model_v2)]\n",
        "         #[\"dnn_model_v3\", get_num_parameters(dnn_model_v3)],\n",
        "         #[\"dnn_model_bn\", get_num_parameters(dnn_model_bn)],\n",
        "         #[\"dnn_model_dropout\", get_num_parameters(dnn_model_dropout)],\n",
        "         #[\"dnn_model_bn_dropout\", get_num_parameters(dnn_model_bn_dropout)]\n",
        "         ]\n",
        "\n",
        "# Print the table\n",
        "headers = [\"Model\", \"Number of Trainable Parameters\"]\n",
        "print(tabulate(table, headers=headers, tablefmt=\"grid\"))\n",
        "\n",
        "# Save as PDF\n",
        "with open('table_summary.pdf', 'w') as f:\n",
        "    f.write(tabulate(table, headers=headers, tablefmt=\"grid\"))\n",
        "\n",
        "# Save as CSV\n",
        "pd.DataFrame(table, columns=headers).to_csv('table_summary.csv', index=False)\n",
        "\n",
        "# Save as Excel\n",
        "pd.DataFrame(table, columns=headers).to_excel('table_summary.xlsx', index=False)"
      ]
    },
    {
      "cell_type": "code",
      "execution_count": null,
      "metadata": {
        "colab": {
          "background_save": true
        },
        "id": "YtCKCnOncxsO",
        "outputId": "a91a2ca0-f5bc-4158-d472-617af7f49bd5"
      },
      "outputs": [
        {
          "name": "stdout",
          "output_type": "stream",
          "text": [
            "  adding: error_plot_of_best_dnn_model.pdf (deflated 34%)\n",
            "  adding: loss_plot_dnn_v1.pdf (deflated 39%)\n",
            "  adding: table_summary.pdf (deflated 80%)\n",
            "  adding: table_summary.csv (deflated 35%)\n",
            "  adding: error_plot_of_best_linear_model.pdf (deflated 35%)\n",
            "  adding: results.csv (deflated 40%)\n",
            "  adding: table_summary.xlsx (deflated 11%)\n",
            "  adding: loss_plot_linear_regression_v2.pdf (deflated 49%)\n",
            "  adding: results.xlsx (deflated 11%)\n",
            "  adding: models_summary.xlsx (deflated 10%)\n",
            "  adding: plot_of_best_dnn_model.pdf (deflated 22%)\n",
            "  adding: results.pdf (deflated 31%)\n",
            "  adding: loss_plot_dnn_v2.pdf (deflated 39%)\n",
            "  adding: loss_plot_linear_regression_v1.pdf (deflated 49%)\n",
            "  adding: Alkaline phosphatase tissue non specific_06_bioactivity_data_3class_pIC50_pubchem_fp.csv (deflated 95%)\n",
            "  adding: plot_of_best_linear_model.pdf (deflated 22%)\n"
          ]
        }
      ],
      "source": [
        "! zip -r results.zip . -i *.csv *.pdf *xlsx"
      ]
    }
  ],
  "metadata": {
    "colab": {
      "provenance": [],
      "authorship_tag": "ABX9TyNjYy0GJNujPYSYJHExvi3R",
      "include_colab_link": true
    },
    "kernelspec": {
      "display_name": "Python 3",
      "name": "python3"
    },
    "language_info": {
      "name": "python"
    }
  },
  "nbformat": 4,
  "nbformat_minor": 0
}